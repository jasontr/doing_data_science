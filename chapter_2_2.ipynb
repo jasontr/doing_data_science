{
 "cells": [
  {
   "cell_type": "markdown",
   "metadata": {},
   "source": [
    "# chapter 2.2"
   ]
  },
  {
   "cell_type": "code",
   "execution_count": 1,
   "metadata": {
    "ExecuteTime": {
     "end_time": "2017-09-24T16:23:49.776779Z",
     "start_time": "2017-09-24T16:23:49.093308Z"
    },
    "collapsed": true
   },
   "outputs": [],
   "source": [
    "# import pandas and numpy\n",
    "import pandas as pd\n",
    "import numpy as np"
   ]
  },
  {
   "cell_type": "code",
   "execution_count": 2,
   "metadata": {
    "ExecuteTime": {
     "end_time": "2017-09-24T16:24:22.405153Z",
     "start_time": "2017-09-24T16:24:22.402988Z"
    },
    "collapsed": true
   },
   "outputs": [],
   "source": [
    "# Set some pandas options for controlling output"
   ]
  },
  {
   "cell_type": "code",
   "execution_count": 3,
   "metadata": {
    "ExecuteTime": {
     "end_time": "2017-09-24T16:25:21.775969Z",
     "start_time": "2017-09-24T16:25:21.619365Z"
    },
    "collapsed": true
   },
   "outputs": [],
   "source": [
    "# inline greaphics\n",
    "%matplotlib inline"
   ]
  },
  {
   "cell_type": "code",
   "execution_count": 4,
   "metadata": {
    "ExecuteTime": {
     "end_time": "2017-09-24T16:25:26.899474Z",
     "start_time": "2017-09-24T16:25:26.731273Z"
    },
    "collapsed": false
   },
   "outputs": [],
   "source": [
    "data = pd.read_csv('./dds_ch2_nyt/nyt1.csv')"
   ]
  },
  {
   "cell_type": "code",
   "execution_count": 5,
   "metadata": {
    "ExecuteTime": {
     "end_time": "2017-09-24T16:29:02.097021Z",
     "start_time": "2017-09-24T16:29:02.073692Z"
    },
    "collapsed": false
   },
   "outputs": [
    {
     "name": "stdout",
     "output_type": "stream",
     "text": [
      "[4 7 3 ..., 7 0 0]\n"
     ]
    }
   ],
   "source": [
    "# slice in groups\n",
    "slice_part = [-float('inf'), 0, 18, 24, 34, 44, 54, 64, float('inf')]\n",
    "slices = pd.cut(np.array(data['Age']), slice_part)\n",
    "## one-hot\n",
    "print(slices.codes)\n",
    "data['AgeGroup'] = slices.codes"
   ]
  },
  {
   "cell_type": "code",
   "execution_count": 6,
   "metadata": {
    "ExecuteTime": {
     "end_time": "2017-09-24T16:41:54.957980Z",
     "start_time": "2017-09-24T16:41:54.953193Z"
    },
    "collapsed": false
   },
   "outputs": [
    {
     "data": {
      "text/plain": [
       "<pandas.core.groupby.DataFrameGroupBy object at 0x10b1d8748>"
      ]
     },
     "execution_count": 6,
     "metadata": {},
     "output_type": "execute_result"
    }
   ],
   "source": [
    "# group this data by the 'data' column\n",
    "# returns a DataFrameGroupBy object\n",
    "grouped = data.groupby('AgeGroup')\n",
    "grouped"
   ]
  },
  {
   "cell_type": "code",
   "execution_count": 7,
   "metadata": {
    "ExecuteTime": {
     "end_time": "2017-09-24T16:43:35.091863Z",
     "start_time": "2017-09-24T16:43:35.082033Z"
    },
    "collapsed": false
   },
   "outputs": [
    {
     "data": {
      "text/plain": [
       "8"
      ]
     },
     "execution_count": 7,
     "metadata": {},
     "output_type": "execute_result"
    }
   ],
   "source": [
    "# get the number of group that this will create\n",
    "grouped.ngroups"
   ]
  },
  {
   "cell_type": "code",
   "execution_count": 8,
   "metadata": {
    "ExecuteTime": {
     "end_time": "2017-09-24T16:45:01.374599Z",
     "start_time": "2017-09-24T16:45:01.362235Z"
    },
    "collapsed": false
   },
   "outputs": [
    {
     "data": {
      "text/plain": [
       "{0: Int64Index([     6,     10,     12,     15,     19,     24,     39,     41,\n",
       "                 46,     47,\n",
       "             ...\n",
       "             458402, 458406, 458407, 458408, 458413, 458430, 458436, 458437,\n",
       "             458439, 458440],\n",
       "            dtype='int64', length=137106),\n",
       " 1: Int64Index([     8,     58,     61,     67,     74,     80,    130,    167,\n",
       "                168,    198,\n",
       "             ...\n",
       "             458200, 458211, 458222, 458225, 458261, 458269, 458338, 458359,\n",
       "             458381, 458394],\n",
       "            dtype='int64', length=19252),\n",
       " 2: Int64Index([    11,     25,     26,     29,     30,     32,     35,     57,\n",
       "                 69,     77,\n",
       "             ...\n",
       "             458365, 458375, 458378, 458379, 458390, 458414, 458423, 458424,\n",
       "             458431, 458433],\n",
       "            dtype='int64', length=35270),\n",
       " 3: Int64Index([     2,     14,     17,     23,     34,     36,     40,     51,\n",
       "                 52,     56,\n",
       "             ...\n",
       "             458350, 458361, 458373, 458393, 458398, 458401, 458405, 458409,\n",
       "             458416, 458432],\n",
       "            dtype='int64', length=58174),\n",
       " 4: Int64Index([     0,     16,     18,     33,     44,     45,     54,     68,\n",
       "                 70,     71,\n",
       "             ...\n",
       "             458383, 458385, 458400, 458403, 458410, 458415, 458417, 458425,\n",
       "             458427, 458428],\n",
       "            dtype='int64', length=70860),\n",
       " 5: Int64Index([     3,      4,      5,      7,      9,     22,     27,     28,\n",
       "                 53,     91,\n",
       "             ...\n",
       "             458392, 458399, 458404, 458419, 458420, 458421, 458422, 458426,\n",
       "             458429, 458435],\n",
       "            dtype='int64', length=64288),\n",
       " 6: Int64Index([    13,     20,     21,     42,     43,     55,     64,     65,\n",
       "                 75,     90,\n",
       "             ...\n",
       "             458323, 458336, 458348, 458369, 458370, 458380, 458395, 458411,\n",
       "             458418, 458434],\n",
       "            dtype='int64', length=44738),\n",
       " 7: Int64Index([     1,     31,     37,     38,     48,     96,    127,    137,\n",
       "                148,    189,\n",
       "             ...\n",
       "             458272, 458308, 458315, 458340, 458345, 458366, 458368, 458372,\n",
       "             458412, 458438],\n",
       "            dtype='int64', length=28753)}"
      ]
     },
     "execution_count": 8,
     "metadata": {},
     "output_type": "execute_result"
    }
   ],
   "source": [
    "# what are the groups that were found?\n",
    "grouped.groups"
   ]
  },
  {
   "cell_type": "code",
   "execution_count": 11,
   "metadata": {
    "ExecuteTime": {
     "end_time": "2017-09-24T17:00:57.779937Z",
     "start_time": "2017-09-24T17:00:57.776624Z"
    },
    "collapsed": false
   },
   "outputs": [],
   "source": [
    "# a helper function to print the contents of the groups\n",
    "def print_groups(groupobject):\n",
    "    # loop over all groups, printing the group name\n",
    "    # and group details\n",
    "    for name, group in groupobject:\n",
    "        print (name)\n",
    "        print (group)"
   ]
  },
  {
   "cell_type": "code",
   "execution_count": null,
   "metadata": {
    "collapsed": true
   },
   "outputs": [],
   "source": [
    "data['CTR'] = data['Clicks']/data['Impressions']\n",
    "data"
   ]
  }
 ],
 "metadata": {
  "kernelspec": {
   "display_name": "Python 3",
   "language": "python",
   "name": "python3"
  },
  "language_info": {
   "codemirror_mode": {
    "name": "ipython",
    "version": 3
   },
   "file_extension": ".py",
   "mimetype": "text/x-python",
   "name": "python",
   "nbconvert_exporter": "python",
   "pygments_lexer": "ipython3",
   "version": "3.6.0"
  }
 },
 "nbformat": 4,
 "nbformat_minor": 2
}
